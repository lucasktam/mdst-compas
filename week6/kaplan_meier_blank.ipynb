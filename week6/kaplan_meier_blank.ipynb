{
  "nbformat": 4,
  "nbformat_minor": 0,
  "metadata": {
    "colab": {
      "provenance": []
    },
    "kernelspec": {
      "name": "python3",
      "display_name": "Python 3"
    },
    "language_info": {
      "name": "python"
    }
  },
  "cells": [
    {
      "cell_type": "code",
      "source": [
        "!pip install lifelines\n"
      ],
      "metadata": {
        "id": "_qPnA7FeY36Z"
      },
      "execution_count": null,
      "outputs": []
    },
    {
      "cell_type": "markdown",
      "source": [
        "## Kaplan-Meier Analysis for COMPAS Recidivism Predictions\n",
        "\n",
        "Objectives:\n",
        "\n",
        "1. Compare survival probabilities (recidivism rates) by COMPAS risk score levels (Low, Medium, High).\n",
        "2. Explore recidivism rates by gender and race.\n",
        "3. Analyze survival curves to observe disparities between groups over a two-year observation period.\n",
        "\n",
        "We are using the COMPAS risk scores as a measure to evaluate recidivism predictions. The Kaplan-Meier analysis allows us to estimate the probability of \"surviving\" (not reoffending) over time and comparing survival rates between different subgroups."
      ],
      "metadata": {
        "id": "AfQd-ujq8iAd"
      }
    },
    {
      "cell_type": "code",
      "execution_count": null,
      "metadata": {
        "id": "MRxR1PNoOYd0"
      },
      "outputs": [],
      "source": [
        "import pandas as pd\n",
        "import numpy as np\n",
        "import seaborn as sns\n",
        "\n",
        "from google.colab import drive\n",
        "\n",
        "drive.mount('/content/drive')"
      ]
    },
    {
      "cell_type": "markdown",
      "source": [
        "## Exercise 1: Connect to the Database and Explore Tables\n",
        "\n",
        "Connect to the `compas.db` SQLite database and examine its structure. Our goal is to identify which tables contain relevant data for Kaplan-Meier analysis.\n",
        "\n",
        "1. **Connect** to the database file.\n",
        "2. **List all tables** in the database to see the structure.\n",
        "3. **Preview the contents** of each table to understand the available fields."
      ],
      "metadata": {
        "id": "W9kcNZEZANFJ"
      }
    },
    {
      "cell_type": "code",
      "source": [
        "import sqlite3\n",
        "\n",
        "# TODO: Connect to the database\n",
        "conn = sqlite3.connect('filepath')\n",
        "\n",
        "# List all tables in the database\n",
        "query = \"SELECT name FROM sqlite_master WHERE type='table';\"\n",
        "tables = pd.read_sql(query, conn)\n",
        "print(\"Tables in database:\")\n",
        "\n",
        "# TODO: Print out the tables to see their names\n"
      ],
      "metadata": {
        "id": "L-PSTDx6_J1U"
      },
      "execution_count": null,
      "outputs": []
    },
    {
      "cell_type": "code",
      "source": [
        "# Define a function to preview the first few rows of each table\n",
        "def preview_table(table_name, conn, limit=5):\n",
        "    query = f\"SELECT * FROM {table_name} LIMIT {limit};\"\n",
        "    return pd.read_sql(query, conn)\n",
        "\n",
        "# Preview the structure and contents of each table\n",
        "table_previews = {table: preview_table(table, conn) for table in tables['name']}\n",
        "\n",
        "# TODO: Print out the table_previews to visualize their contents\n"
      ],
      "metadata": {
        "id": "zJcQQ3o9_im0"
      },
      "execution_count": null,
      "outputs": []
    },
    {
      "cell_type": "markdown",
      "source": [
        "## Exercise 2: Extract Relevant Data for Kaplan-Meier Analysis\n",
        "\n",
        "In order to successfully extract the necessary data, we need to join information from multiple tables to gather:\n",
        "\n",
        "1. **COMPAS Scores** from the `compas` table (`person_id`, `decile_score`, `score_text` (risk level), `screening_date`).\n",
        "2. **Demographics** from the `people` table (`sex`, `race`, `r_offense_date`).\n",
        "3. **Incarceration Periods** from the `jailhistory` table (`in_custody`, `out_custody`) to filter out times when individuals were incarcerated.\n",
        "\n",
        "*Instructions*:\n",
        "\n",
        "*   Use SQL queries to join these tables on `person_id`\n",
        "*   Extract relevant fields and load the result into a pandas DataFrame.\n",
        "\n",
        "*Note*: Create a `two_year_recid` column by checking if `r_offense_date` is within two years (730 days) from screening_date.\n",
        "\n",
        "*   Set `start` to 0 (representing release date)\n",
        "*   Set end based on whether recidivism occurred within two years:\n",
        "    - If `two_year_recid is`, set `end` to the days until `r_offense_date`.\n",
        "    - If `two_year_recid` is 0, set `end` to 730 days.\n",
        "\n",
        "\n",
        "\n"
      ],
      "metadata": {
        "id": "7pwqtUTRBIGs"
      }
    },
    {
      "cell_type": "code",
      "source": [
        "# Define SQL query to extract and join relevant data\n",
        "# Fill in the relevant data for each table (after table_name. )\n",
        "query = \"\"\"\n",
        "SELECT\n",
        "    compas. ,\n",
        "    compas. ,\n",
        "    compas. AS risk_level,\n",
        "    compas. ,\n",
        "    people. ,\n",
        "    people. ,\n",
        "    people. ,\n",
        "    jailhistory. ,\n",
        "    jailhistory.\n",
        "FROM\n",
        "    compas\n",
        "LEFT JOIN\n",
        "    people ON compas.person_id = people.id\n",
        "LEFT JOIN\n",
        "    jailhistory ON people.id = jailhistory.person_id\n",
        "\"\"\"\n",
        "\n",
        "# Load data into a DataFrame\n",
        "\n",
        "\n",
        "# Convert dates to datetime format (screening_date, r_offense_date, in_custody, out_custody)\n",
        "\n",
        "\n",
        "# Calculate two_year_recid based on whether recidivism occurred within 2 years\n",
        "# We'll create a new column 'two_year_recid': 1 for recidivated within 2 years, otherwise 0\n",
        "# First check if 'r_offense_date' exists for each row of the data set, then check whether the time between\n",
        "# 'screening_date' and 'r_offense_date' is 730 days or less\n",
        "\n",
        "\n",
        "# Set start time to 0 (create a 'start' column)\n",
        "df['start'] = 0\n",
        "\n",
        "# Define end time based on recidivism status (create an 'end' column)\n",
        "\n",
        "\n",
        "# Drop rows with missing essential data: subset of 'screening_date' and 'end'\n",
        "\n",
        "\n",
        "# Display the first few rows of the prepared DataFrame\n",
        "\n"
      ],
      "metadata": {
        "id": "bTfjBV6YCHUn"
      },
      "execution_count": null,
      "outputs": []
    },
    {
      "cell_type": "markdown",
      "source": [
        "## Exercise 3: Kaplan-Meier Analysis for COMPAS Risk Levels\n",
        "\n",
        "1. Use `lifelines` to fit a Kaplan-Meier model for survival analysis.\n",
        "2. Plot the survival curves for different risk levels (`Low`, `Medium`, `High`) to observe the recidivism trends over time.\n",
        "\n",
        "*Note*: Remove rows with missing or \"N/A\" values in the risk level column."
      ],
      "metadata": {
        "id": "NzDtt9f9FBOw"
      }
    },
    {
      "cell_type": "code",
      "source": [
        "# Import KaplanMeierFitter from lifelines\n",
        "from lifelines import KaplanMeierFitter\n",
        "import matplotlib.pyplot as plt\n",
        "\n",
        "# Initialize Kaplan-Meier fitter\n",
        "\n",
        "\n",
        "# Filter out rows with missing or \"N/A\" risk levels (score_text) and limit 'end' to be within 0 to 730 days (.notna() might be helpful!)\n",
        "\n",
        "\n",
        "# Initialize the plot\n",
        "plt.figure(figsize=(10, 6))\n",
        "\n",
        "# Plot Kaplan-Meier curves for each risk level (score_text) fill in *** placeholders\n",
        "kmf = KaplanMeierFitter()\n",
        "for level in df_filtered['***'].unique():\n",
        "    subset = df_filtered[df_filtered['***'] == level]\n",
        "    kmf.fit(durations=subset['***'], event_observed=subset['***'], label=f'***: {level}')\n",
        "    kmf.plot()\n",
        "\n",
        "# Customize the plot\n",
        "plt.title(\"***\")\n",
        "plt.xlabel(\"***\")\n",
        "plt.ylabel(\"***\")\n",
        "plt.xlim(***)  # Set x-axis limit to 0-730\n",
        "plt.xticks(range(***))  # Show ticks from 0 to 730 in intervals of 100 days\n",
        "\n",
        "# Display the plot\n",
        "plt.show()"
      ],
      "metadata": {
        "id": "4pVVY2blFSFa"
      },
      "execution_count": null,
      "outputs": []
    },
    {
      "cell_type": "markdown",
      "source": [
        "## Exercise 4: Kaplan-Meier Analysis by Demographic Groups (Sex)\n",
        "\n",
        "1. Compare Kaplan-Meier curves across sex.\n",
        "2. Compare recidivism rates for female and male individuals across different COMPAS risk levels (Low, Medium, High). This allows us to see how recidivism probabilities differ by both gender and risk classification.\n",
        "\n",
        "Helpful Tips:\n",
        "*   Use two side-by-side subplots to display the curves for the two racial groups separately.\n",
        "*   Ensure both plots span from 0 to 730 days, with x-axis tick marks every 100 days.\n",
        "*   Clearly label each plot with the corresponding racial group, and include legends to show the COMPAS risk levels."
      ],
      "metadata": {
        "id": "C8raZGDJG9jY"
      }
    },
    {
      "cell_type": "code",
      "source": [
        "import matplotlib.pyplot as plt\n",
        "from lifelines import KaplanMeierFitter\n",
        "\n",
        "# Fill in the *** placeholders\n",
        "\n",
        "# Initialize Kaplan-Meier fitter\n",
        "\n",
        "\n",
        "# Initialize subplots for side-by-side display\n",
        "fig, axes = plt.subplots(1, 2, figsize=(14, 6))\n",
        "\n",
        "# Define COMPAS risk levels to iterate over\n",
        "risk_levels = ['***', '***', '***']\n",
        "colors = ['***', '***', '***']  # Colors for each risk level\n",
        "\n",
        "# Plot for Female\n",
        "female_subset = df[df['***'] == '***']\n",
        "for risk, color in zip(risk_levels, colors):\n",
        "    level_data = female_subset[female_subset['***'] == risk] # score_text\n",
        "    kmf.fit(durations=level_data['***'], event_observed=level_data['***'], label=f'***: {risk}')\n",
        "    kmf.plot(ax=axes[0], color=color)\n",
        "axes[0].set_title(\"***\")\n",
        "axes[0].set_xlabel(\"***\")\n",
        "axes[0].set_ylabel(\"***\")\n",
        "axes[0].set_xlim(***)  # Set x-axis limit to 0-730\n",
        "axes[0].set_xticks(range(***))  # Show ticks from 0 to 730 in intervals of 100 days\n",
        "\n",
        "# Plot for Male\n",
        "male_subset = df[df['***'] == '***']\n",
        "for risk, color in zip(risk_levels, colors):\n",
        "    level_data = male_subset[male_subset['***'] == risk] # score_text\n",
        "    kmf.fit(durations=level_data['***'], event_observed=level_data['***'], label=f'***: {risk}')\n",
        "    kmf.plot(ax=axes[1], color=color)\n",
        "axes[1].set_title(\"***\")\n",
        "axes[1].set_xlabel(\"***\")\n",
        "axes[1].set_ylabel(\"***\")\n",
        "axes[1].set_xlim(***)  # Set x-axis limit to 0-730\n",
        "axes[1].set_xticks(range(***))  # Show ticks from 0 to 730 in intervals of 100 days\n",
        "\n",
        "# Adjust layout and add a legend\n",
        "axes[0].legend(title=\"***\")\n",
        "axes[1].legend(title=\"***\")\n",
        "plt.tight_layout()\n",
        "\n",
        "# Display the plots\n",
        "plt.show()\n"
      ],
      "metadata": {
        "id": "hjSxvKrPHKVj"
      },
      "execution_count": null,
      "outputs": []
    },
    {
      "cell_type": "markdown",
      "source": [
        "## Exercise 5: Kaplan-Meier Analysis by Demographic Groups (Race)\n",
        "\n",
        "1. Compare Kaplan-Meier curves across race.\n",
        "2. Compare recidivism rates for two different racial groups, each broken down by COMPAS risk levels (Low, Medium, High). This will help us examine how survival probabilities differ by both race and risk classification.\n",
        "\n",
        "Helpful Tips:\n",
        "*   Use two side-by-side subplots to display the curves for the two racial groups separately.\n",
        "*   Ensure both plots span from 0 to 730 days, with x-axis tick marks every 100 days.\n",
        "*   Clearly label each plot with the corresponding racial group, and include legends to show the COMPAS risk levels.\n",
        "\n",
        "*Note*: Select any two races from the dataset (e.g., Caucasian, African-American, Hispanic, Asian, Other); race strings are case-sensitive. Feel free to try different combinations and observe any trends."
      ],
      "metadata": {
        "id": "co7dQCxaJOOl"
      }
    },
    {
      "cell_type": "code",
      "source": [
        "import matplotlib.pyplot as plt\n",
        "from lifelines import KaplanMeierFitter\n",
        "\n",
        "# Initialize Kaplan-Meier fitter\n",
        "\n",
        "\n",
        "# Initialize subplots for side-by-side display\n",
        "fig, axes = plt.subplots(1, 2, figsize=(14, 6))\n",
        "\n",
        "# Define the two racial groups you want to compare (feel free to change these; CASE-SENSITIVE)\n",
        "race1 = '***'\n",
        "race2 = '***'\n",
        "\n",
        "# Define COMPAS risk levels to iterate over\n",
        "risk_levels = ['***', '***', '***']\n",
        "colors = ['***', '***', '***']  # Colors for each risk level\n",
        "\n",
        "# Plot for the first racial group\n",
        "race1_subset = df[df['***'] == race1]\n",
        "for risk, color in zip(risk_levels, colors):\n",
        "    level_data = race1_subset[race1_subset['***'] == risk] # score_text\n",
        "    kmf.fit(durations=level_data['***'], event_observed=level_data['***'], label=f'***: {risk}')\n",
        "    kmf.plot(ax=axes[0], color=color)\n",
        "axes[0].set_title(f\"***\")\n",
        "axes[0].set_xlabel(\"***\")\n",
        "axes[0].set_ylabel(\"***\")\n",
        "axes[0].set_xlim(***)  # Set x-axis limit to 0-730\n",
        "axes[0].set_xticks(range(***))  # Show ticks from 0 to 730 in intervals of 100 days\n",
        "\n",
        "# Plot for the second racial group\n",
        "race2_subset = df[df['***'] == race2]\n",
        "for risk, color in zip(risk_levels, colors):\n",
        "    level_data = race2_subset[race2_subset['***'] == risk] # score_text\n",
        "    kmf.fit(durations=level_data['***'], event_observed=level_data['***'], label=f'***: {risk}')\n",
        "    kmf.plot(ax=axes[1], color=color)\n",
        "axes[1].set_title(f\"***\")\n",
        "axes[1].set_xlabel(\"***\")\n",
        "axes[1].set_ylabel(\"***\")\n",
        "axes[1].set_xlim(***)  # Set x-axis limit to 0-730\n",
        "axes[1].set_xticks(range(***))  # Show ticks from 0 to 730 in intervals of 100 days\n",
        "\n",
        "# Adjust layout and add a legend\n",
        "axes[0].legend(title=\"***\")\n",
        "axes[1].legend(title=\"***\")\n",
        "plt.tight_layout()\n",
        "\n",
        "# Display the plots\n",
        "plt.show()\n"
      ],
      "metadata": {
        "id": "o69dyHHxJZ4S"
      },
      "execution_count": null,
      "outputs": []
    },
    {
      "cell_type": "markdown",
      "source": [
        "\n",
        "## Exercise 5: Calculate Median Survival Times\n",
        "\n",
        "**Objective**: Calculate the median survival time, which indicates the time at which 50% of the population has recidivated.\n",
        "\n",
        "1. First, calculate the median survival time for the entire dataset. This gives a general benchmark of when half of the population has recidivated.\n",
        "2. Then, calculate the median survival time for each COMPAS risk level (e.g., Low, Medium, High). This allows us to see if there are significant differences in the timing or recidivism between risk groups.\n",
        "\n",
        "*Note*: Filter out entries with 'N/A' in the `score_text` column if needed."
      ],
      "metadata": {
        "id": "4Yty8u0WNOol"
      }
    },
    {
      "cell_type": "code",
      "source": [
        "from lifelines import KaplanMeierFitter\n",
        "\n",
        "# Fill in the *** placeholders\n",
        "\n",
        "# Filter out entries with 'N/A' in the 'score_text' column\n",
        "df = df[df['***'] != '***']\n",
        "\n",
        "# Initialize the Kaplan-Meier fitter\n",
        "\n",
        "\n",
        "# Calculate median survival time for the entire dataset\n",
        "kmf.fit(durations=df['***'], event_observed=df['***'])\n",
        "median_survival = kmf.median_survival_time_\n",
        "\n",
        "# Print out the median survival times\n",
        "\n",
        "\n",
        "# Median survival times by risk level\n",
        "for level in df['***'].unique():  # Adjust if 'score_text' is the correct column for risk level\n",
        "    subset = df[df['***'] == level]\n",
        "    kmf.fit(durations=subset['***'], event_observed=subset['***'])\n",
        "    median_survival = kmf.median_survival_time_\n",
        "\n",
        "    # Print these out to visualize the differences (use fstrings!)\n"
      ],
      "metadata": {
        "id": "J5HX9liWW9l1"
      },
      "execution_count": null,
      "outputs": []
    },
    {
      "cell_type": "markdown",
      "source": [
        "## Exercise 6: Interpret the Results\n",
        "\n",
        "**Objective**: Reflect on and interpret the Kaplan-Meier analysis results:\n",
        "1. How does the recidivism rate change across different COMPAS risk levels?\n",
        "    - Observe the median survival times for each risk level. Does the median survival time decrease as the risk level increases (i.e., High risk has a shorter median survival time than Low risk)?\n",
        "\n",
        "2. Are there any noticeable differences in recidivism rates among gender or racial groups?\n",
        "    - Compare the Kaplan-Meier curves and survival probabilities for different genders and racial groups from earlier exercises. Do certain groups recidivate faster than others?\n"
      ],
      "metadata": {
        "id": "Pg82NTvlXV3Z"
      }
    },
    {
      "cell_type": "markdown",
      "source": [
        "1. High-Risk Group: Median survival time is 272 days, which indicates that half of the individuals in this group reoffend within about 9 months after release. This suggests a high recidivism rate among high-risk individuals.\n",
        "\n",
        "  Medium-Risk Group: Median survival time is 431 days, meaning this group takes longer to reach the 50% recidivism mark compared to the high-risk group, which is expected.\n",
        "\n",
        "  Low-Risk Group: Median survival time is \"infinity,\" implying that fewer than 50% of low-risk individuals reoffend within the two-year observation period. This is consistent with their lower risk classification.\n",
        "\n",
        "2. Gender: The survival probabilities likely reveal that men recidivate at a higher rate and earlier time points compared to women. Men in the high-risk group may show a faster decline in survival probability, suggesting they are more prone to reoffend. For women, even in the high-risk group, the survival probability may decrease at a slower rate than men.\n",
        "\n",
        "  Race: If we compare different racial groups (e.g., Caucasian and African-American), the curves may indicate disparities. For instance, African-American individuals may exhibit a higher rate of recidivism in similar risk categories compared to Caucasian individuals, potentially highlighting racial disparities. This could be due to a range of socio-economic factors and historical biases that may influence both the likelihood of reoffending and the assessment itself."
      ],
      "metadata": {
        "id": "oIqmfy_nYEk_"
      }
    },
    {
      "cell_type": "code",
      "source": [
        "# Cool plot that displays every race in this dataset\n",
        "# Initialize the plot\n",
        "plt.figure(figsize=(10, 6))\n",
        "\n",
        "# Plot Kaplan-Meier curves for each race\n",
        "for race in df['race'].unique():\n",
        "    subset = df[df['race'] == race]\n",
        "    kmf.fit(durations=subset['end'], event_observed=subset['two_year_recid'], label=f'Race: {race}')\n",
        "    kmf.plot()\n",
        "\n",
        "# Customize the plot\n",
        "plt.title(\"Kaplan-Meier Curve by Race (0 to 730 Days)\")\n",
        "plt.xlabel(\"Days since Screening\")\n",
        "plt.ylabel(\"Survival Probability (No Recidivism)\")\n",
        "plt.xlim(0, 730)  # Set x-axis limit to 0-730\n",
        "plt.xticks(range(0, 731, 100))  # Show ticks from 0 to 730 in intervals of 100 days\n",
        "\n",
        "# Display the plot\n",
        "plt.show()\n"
      ],
      "metadata": {
        "id": "y5X7GIQjH5rQ"
      },
      "execution_count": null,
      "outputs": []
    }
  ]
}