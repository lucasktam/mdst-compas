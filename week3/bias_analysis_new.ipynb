{
  "nbformat": 4,
  "nbformat_minor": 0,
  "metadata": {
    "colab": {
      "provenance": []
    },
    "kernelspec": {
      "name": "python3",
      "display_name": "Python 3"
    },
    "language_info": {
      "name": "python"
    }
  },
  "cells": [
    {
      "cell_type": "code",
      "execution_count": null,
      "metadata": {
        "id": "4jGzMm2kwfLp"
      },
      "outputs": [],
      "source": [
        "import numpy as np\n",
        "import pandas as pd\n",
        "import seaborn as sns\n",
        "import matplotlib.pyplot as plt\n",
        "\n",
        "from google.colab import drive\n",
        "drive.mount('/content/drive')"
      ]
    },
    {
      "cell_type": "markdown",
      "source": [
        "# COMPAS Dataset Error Analysis and Bias in Predictive Models"
      ],
      "metadata": {
        "id": "Rbxy44U04ghy"
      }
    },
    {
      "cell_type": "markdown",
      "source": [
        "##Exercise 1: Loading and Preprocessing (COMPAS Data)\n",
        "Load, clean, and preprocess the dataset to prepare it for subsequent analysis with a focus on error distribution."
      ],
      "metadata": {
        "id": "LNeZoA6C4i22"
      }
    },
    {
      "cell_type": "markdown",
      "source": [
        "####Exercise 1.1\n",
        "Load the COMPAS dataset ('compas-scores-two-years2.csv') using pandas."
      ],
      "metadata": {
        "id": "VbUBKoapxRul"
      }
    },
    {
      "cell_type": "code",
      "source": [
        "# Load dataset with read_csv\n"
      ],
      "metadata": {
        "id": "xbdpG6OpxS95"
      },
      "execution_count": null,
      "outputs": []
    },
    {
      "cell_type": "markdown",
      "source": [
        "####Exercise 1.2\n",
        "Print out the dimensions, column names, and datatypes of this dataset! Then print out the head to understand the dataset.\n",
        "\n",
        "\n",
        "*  Understanding the shape, columns, and types helps determine the size of the\n",
        "dataset and understand which fields are relevant for our analysis.\n",
        "*  This is crucial for identifying which columns might be useful in understanding bias.\n",
        "\n",
        "\n",
        "\n"
      ],
      "metadata": {
        "id": "2CEhtE62xUdI"
      }
    },
    {
      "cell_type": "code",
      "source": [
        "# Explore the data structure\n"
      ],
      "metadata": {
        "id": "aXWwauFKxcAB"
      },
      "execution_count": null,
      "outputs": []
    },
    {
      "cell_type": "markdown",
      "source": [
        "####Exercise 1.3a\n",
        "Filter the data to remove irrelevant records:\n",
        "\n",
        "\n",
        "*   Remove rows with `days_b_screening_arrest` outside of the range [-30, 30]\n",
        "    *   The column `days_b_screening_arrest` represents the number of days between a person's arrest and when they were assessed by the COMPAS system.\n",
        "    *   The COMPAS assessment is only relevant if it is done within a certain time window of the arrest, ideally around the time of the offense\n",
        "    *   If the assessment is performed too long after (greater than 30 days) or before (-30 days) the actual arrest, it may not accurately reflect the current context of the offense, leading to unrealiable or incorrect risk scores.\n",
        "\n"
      ],
      "metadata": {
        "id": "YL3rgyhSxgtE"
      }
    },
    {
      "cell_type": "code",
      "source": [
        "# Filter the data\n"
      ],
      "metadata": {
        "id": "epBqv-6wxggP"
      },
      "execution_count": null,
      "outputs": []
    },
    {
      "cell_type": "markdown",
      "source": [
        "####Exercise 1.3b\n",
        "Filter the data to remove irrelevant records:\n",
        "*   Drop the rows where `is_recid` equals -1.\n",
        "    *   The column `is_recid` is a flag indicating whether the individual reoffended (revidivated) within two years. A value of `-1` indicates that the data for this person is missing or oculd not be found by ProPublica (the source of the data).\n",
        "    *   Records with `is_recid = -1` mean that we do not know whether the individual reoffended or not. Using incomplete or missing information can lead to skewed results, and these cases add uncertainty to the analysis.\n",
        "\n",
        "After filtering, how many rows are there?"
      ],
      "metadata": {
        "id": "pTlRyYaYxlMB"
      }
    },
    {
      "cell_type": "code",
      "source": [
        "# Filter the data\n"
      ],
      "metadata": {
        "id": "FUFaOu4dxl3R"
      },
      "execution_count": null,
      "outputs": []
    },
    {
      "cell_type": "markdown",
      "source": [
        "####Exercise 1.3c\n",
        "Filter the data to remove irrelevant records:\n",
        "*   Remove rows where `c_charge_degree` is 'O' (ordinary traffic).\n",
        "    * The `c_charge_degree` column indicates the severity of the charge. It contains values like 'F' (Felony), 'M' (Misdemeanor), and 'O' (Ordinary traffic offenses).\n",
        "    * **Ordinary traffic offenses** do not usually result in jail time and are less likely to lead to reoffending that would justify the use of a complex risk assessment model like COMPAS."
      ],
      "metadata": {
        "id": "XaFkCzCYxnEv"
      }
    },
    {
      "cell_type": "code",
      "source": [
        "# Filter the data\n"
      ],
      "metadata": {
        "id": "_B1LFAp2xnSR"
      },
      "execution_count": null,
      "outputs": []
    },
    {
      "cell_type": "markdown",
      "source": [
        "#### Exercise 1.4\n",
        "Filter the columns to only include ['name', 'age', 'c_charge_degree', 'race', 'score_text', 'sex', 'priors_count', 'days_b_screening_arrest', 'decile_score', 'is_recid', 'two_year_recid', 'c_jail_in', 'c_jail_out']"
      ],
      "metadata": {
        "id": "f9-VG7r5xwVY"
      }
    },
    {
      "cell_type": "code",
      "source": [
        "# Filter the DataFrame to only include the desired columns\n",
        "\n",
        "# Select only the specified columns\n"
      ],
      "metadata": {
        "id": "9gkOiSoLxwKM"
      },
      "execution_count": null,
      "outputs": []
    },
    {
      "cell_type": "markdown",
      "source": [
        "#### Exercise 1.5\n",
        "Check that you have no null values in the dataset.\n"
      ],
      "metadata": {
        "id": "aydgPtVCx79b"
      }
    },
    {
      "cell_type": "code",
      "source": [
        "# Check for null values in the data set\n"
      ],
      "metadata": {
        "id": "SYovpu0myBW7"
      },
      "execution_count": null,
      "outputs": []
    },
    {
      "cell_type": "markdown",
      "source": [
        "#### Exercise 1.6\n",
        "Create a column named 'length_of_stay' that is the length a defendant stayed in jail. Then calculate the correlation of length of stay with COMPAS score. What does the correlation mean?"
      ],
      "metadata": {
        "id": "DQrXZ-zLyKfV"
      }
    },
    {
      "cell_type": "code",
      "source": [
        "# Hint: use pd.to_datetime() to convert strings into datetime format\n"
      ],
      "metadata": {
        "id": "s1L-hHOoyLUV"
      },
      "execution_count": null,
      "outputs": []
    },
    {
      "cell_type": "markdown",
      "source": [
        "#### Exercise 1.7\n",
        "Create a column 'age_cat', where age is separated into 3 categories: > 45, 25 <= age <= 45, and < 25. Name these in an easy to read way."
      ],
      "metadata": {
        "id": "TkWrEltOyRhM"
      }
    },
    {
      "cell_type": "code",
      "source": [
        "# Try using lambda functions!\n"
      ],
      "metadata": {
        "id": "0mh9UNCMySJl"
      },
      "execution_count": null,
      "outputs": []
    },
    {
      "cell_type": "markdown",
      "source": [
        "####Exercise 1.8\n",
        "Transform the risk score column into a new, simplified format. Create a new column that categorizes the risk score into binary outcomes: 'Low': 0, 'Medium': 1, 'High': 1\n",
        "*   Transforming the `score_text` into a binary value allows us to perform more straightforward predictive analysis and assess whether the model is properly identifying high-risk individuals\n",
        "*   Hint: create a column called 'score_binary', .replace() function replaces specific values in the DataFrame with new values"
      ],
      "metadata": {
        "id": "ZYucYLnHyD9S"
      }
    },
    {
      "cell_type": "code",
      "source": [
        "# Create a binary column for the risk score\n"
      ],
      "metadata": {
        "id": "1V4JmE2eyERC"
      },
      "execution_count": null,
      "outputs": []
    },
    {
      "cell_type": "markdown",
      "source": [
        "#### Exercise 1.9\n",
        "Print out the percentage of each race as well as the percentage of each sex."
      ],
      "metadata": {
        "id": "_NiKoNwGyV1y"
      }
    },
    {
      "cell_type": "code",
      "source": [
        "# Hint: use value_counts() and sum()\n",
        "# fstrings, .2f to display up to 2 decimal places\n"
      ],
      "metadata": {
        "id": "890AXdMIyWLg"
      },
      "execution_count": null,
      "outputs": []
    },
    {
      "cell_type": "markdown",
      "source": [
        "#### Exercise 1.10\n",
        "What is the percentage of people who have recidivated?\n",
        "* Calculate the percentage of individuals in the dataset who have recidivated ('two_year_recid' column equals 1)."
      ],
      "metadata": {
        "id": "ytcxNXWOzdtg"
      }
    },
    {
      "cell_type": "code",
      "source": [
        "# Calculate the percentage of people who have recidivated\n",
        "# Hint: The mean gives the proportion of people who recidivated.\n",
        "\n",
        "# Print the recidivism rate\n"
      ],
      "metadata": {
        "id": "ZlHm-Htvzd-9"
      },
      "execution_count": null,
      "outputs": []
    },
    {
      "cell_type": "markdown",
      "source": [
        "#### Exercise 1.11\n",
        "Using seaborn, plot charts of Black defendants' COMPAS scores, then plot charts of White defendants' COMPAS scores. Is this evidence of bias?"
      ],
      "metadata": {
        "id": "JBEbgNKBzfac"
      }
    },
    {
      "cell_type": "code",
      "source": [
        "# Filter the dataset for Black defendants\n",
        "\n",
        "# Plot the COMPAS scores for Black defendants\n"
      ],
      "metadata": {
        "id": "VIk9Twgtzh3G"
      },
      "execution_count": null,
      "outputs": []
    },
    {
      "cell_type": "markdown",
      "source": [
        "##Exercise 2: Confusion Matrix, Contingency Table, and Performance Metrics\n",
        "Use COMPAS predictions to create a confusion matrix. Calculate accuracy, precision, recall, specificity, and F1 score using actual vs predicted calues."
      ],
      "metadata": {
        "id": "4OiedWivzxUY"
      }
    },
    {
      "cell_type": "markdown",
      "source": [
        "####Exercise 2.1:\n",
        "Create a Confusion Matrix. Import the `confusion_matrix` function from the `sklearn.metrics` module.\n",
        "*   Then extract the actual labels (`y_actual`) and the predicted labels (`y_pred`) from your DataFrame.\n",
        "    * `y_actual`: This should be the actual outcome, which tells if a person actually recidivated (`two_year_recid` column).\n",
        "    * `y_pred`: This should be the predicted outcome from the model (`score_binary` column).\n",
        "*   Then plot this using seaborn's heatmap function and matplotlib.pyplot."
      ],
      "metadata": {
        "id": "FOXp7oszzz15"
      }
    },
    {
      "cell_type": "code",
      "source": [
        "from sklearn.metrics import confusion_matrix\n",
        "\n",
        "# Define actual and predicted values\n",
        "\n",
        "# Create a confusion matrix using the function you've imported\n",
        "\n",
        "# Plotting the confusion matrix using seaborn's heatmap\n",
        "\n",
        "# Show the plot\n"
      ],
      "metadata": {
        "id": "Jp-krMVBzu0M"
      },
      "execution_count": null,
      "outputs": []
    },
    {
      "cell_type": "markdown",
      "source": [
        "####Exercise 2.2:\n",
        "Plot confusion matrices for black defendants, white defendants, and another demographic of your choice."
      ],
      "metadata": {
        "id": "ZE53DlVf2ALh"
      }
    },
    {
      "cell_type": "code",
      "source": [
        "# Filter the DataFrame based on race == (i.e.) 'Caucasian'\n",
        "\n",
        "# Define the actual and predicted labels for those defendents\n",
        "\n",
        "# Create a confusion matrix\n",
        "\n",
        "# Convert the confusion matrix to a DataFrame for labeling\n",
        "\n",
        "# Plot the confusion matrix for White defendants using Seaborn's heatmap\n"
      ],
      "metadata": {
        "id": "4tWeSb7P3VL2"
      },
      "execution_count": null,
      "outputs": []
    },
    {
      "cell_type": "markdown",
      "source": [
        "####Exercise 2.3:\n",
        "Calculate Performance Metrics. Import functions to calculate accuracy, precision, recall, and F1 score from scikit-learn.\n",
        "*   Calculate the **accuracy** of the model by comparing `y_actual` and `y_pred`.\n",
        "    * Accuracy gives a general overview of the model's performance, indicating how often it correctly predicted recidivism versus non-recidivism.\n",
        "*   Calculate the **precision** and recall to understand the quality of the model’s positive predictions.\n",
        "    * Precision is critical when we want to minimize false positives, for example, when misclassifying someone as high-risk unjustly (which could lead to harsher treatment).\n",
        "    * Recall is important when we want to ensure we identify as many actual positives as possible, such as correctly identifying individuals who are likely to reoffend.\n",
        "* Use the values from the confusion matrix to calculate **specificity** (`True Negative`/(`True Negative` + `False Positive`).\n",
        "    * Specificity tells us how well the model identifies actual non-recidivists, minimizing the risk of wrongly labeling people as high-risk when they are not.\n",
        "* Calculate the **F1 score** for a balanced measure of the model’s performance.\n",
        "    * The F1 score is useful when the balance between precision and recall is crucial. For instance, if false positives and false negatives have serious real-world consequences, this metric helps to assess overall balance.\n",
        "\n",
        "**For specificity: ** Run the cell below to extract values for True Negatives (TN), False Positives (FP), False Negatives (FN), and True Positives (TP) from the confusion matrix defined in Exercise 2.1."
      ],
      "metadata": {
        "id": "BL53INn-2C4t"
      }
    },
    {
      "cell_type": "code",
      "source": [
        "# RUN ME!\n",
        "# The confusion matrix is originally a 2x2 array, with the following structure:\n",
        "# [[True Negative (TN), False Positive (FP)],\n",
        "#  [False Negative (FN), True Positive (TP)]]\n",
        "# .ravel() makes it easier to extract these four values (left to right) at once.\n",
        "# Where cm is the name of the confusion matrix (can name it anything)\n",
        "\n",
        "tn, fp, fn, tp = cm.ravel()"
      ],
      "metadata": {
        "id": "sez7hlEYeLQb"
      },
      "execution_count": null,
      "outputs": []
    },
    {
      "cell_type": "code",
      "source": [
        "# Calculate accuracy\n",
        "\n",
        "# Calculate precision, recall\n",
        "\n",
        "# Calculate specificity\n",
        "\n",
        "# Calculate F1 Score\n"
      ],
      "metadata": {
        "id": "cruE03uw2DQU"
      },
      "execution_count": null,
      "outputs": []
    },
    {
      "cell_type": "markdown",
      "source": [
        "##Exercise 3: Error Distribution Analysis Across Demographics"
      ],
      "metadata": {
        "id": "vKgSwJAQ6D_e"
      }
    },
    {
      "cell_type": "markdown",
      "source": [
        "####Exercise 3.1\n",
        "Create new columns in your DataFrame to identify False Positives and False Negatives.\n",
        "*   **False Positive (FP)**: When the model predicts someone will reoffend (high-risk), but they do not actually reoffend.\n",
        "*   **False Negative (FN)**: When the model predicts someone will not reoffend (low-risk), but they do actually reoffend."
      ],
      "metadata": {
        "id": "Y6gCjVtl2MTp"
      }
    },
    {
      "cell_type": "code",
      "source": [
        "# Add columns to identify False Positives and False Negatives\n",
        "# Hint: think of what y_pred and y_actual should be for FP, FN (as type int)\n"
      ],
      "metadata": {
        "id": "CKRXkheX2MK0"
      },
      "execution_count": null,
      "outputs": []
    },
    {
      "cell_type": "markdown",
      "source": [
        "####Exercise 3.2\n",
        "How much more likely are black defendants to get a false positive than white defendants?\n",
        "\n",
        "How much more likely are white defendants to get a false negative than black defendants?"
      ],
      "metadata": {
        "id": "GNeZC0-KQno5"
      }
    },
    {
      "cell_type": "code",
      "source": [
        "# Filter the dataset for Black and White defendants\n",
        "\n",
        "# Calculate the False Positive Rate (FPR) for Black defendants\n",
        "\n",
        "# Calculate the False Positive Rate (FPR) for White defendants\n",
        "\n",
        "# Calculate how much more likely Black defendants are to get a false positive than White defendants\n",
        "\n",
        "# Calculate the False Negative Rate (FNR) for Black defendants\n",
        "\n",
        "# Calculate the False Negative Rate (FNR) for White defendants\n",
        "\n",
        "# Calculate how much more likely White defendants are to get a false negative than Black defendants\n"
      ],
      "metadata": {
        "id": "pqFRFXPeYS7N"
      },
      "execution_count": null,
      "outputs": []
    },
    {
      "cell_type": "markdown",
      "source": [
        "####Exercise 3.3\n",
        "Use the newly created `'false_positive'` and `'false_negative'` columns to calculate the average false positive and false negative rates for each demographic group.\n",
        "*   Group the data by `'race'` and calculate the mean of `'false_positive'` and `'false_negative'`."
      ],
      "metadata": {
        "id": "MeusiudZ2Q4v"
      }
    },
    {
      "cell_type": "code",
      "source": [
        "# Calculate false positive and false negative rates by race\n",
        "\n",
        "# Print the rates to understand the differences\n"
      ],
      "metadata": {
        "id": "Gz9N68QE2QuA"
      },
      "execution_count": null,
      "outputs": []
    },
    {
      "cell_type": "markdown",
      "source": [
        "####Exercise 3.4\n",
        "Use Seaborn's barplot to create a bar chart of the false positive rates by race.\n"
      ],
      "metadata": {
        "id": "dBR5rnZk2TaC"
      }
    },
    {
      "cell_type": "code",
      "source": [
        "# Calculate the False Positive Rate for each race\n",
        "# Hint: The mean gives the rate of false positives for each race.\n",
        "\n"
      ],
      "metadata": {
        "id": "d5oNo3LD2Ty7"
      },
      "execution_count": null,
      "outputs": []
    },
    {
      "cell_type": "markdown",
      "source": [
        "####Exercise 3.5\n",
        "Create a bar chart using Seaborn to visualize false negative rates by race, similar to how false positive rates were plotted."
      ],
      "metadata": {
        "id": "i933Z4vA2VxU"
      }
    },
    {
      "cell_type": "code",
      "source": [
        "# Calculate the False Negative Rate for each race\n",
        "# Hint: The mean gives the rate of false negatives for each race."
      ],
      "metadata": {
        "id": "zMWDoA6Y2V_1"
      },
      "execution_count": null,
      "outputs": []
    },
    {
      "cell_type": "markdown",
      "source": [
        "#### Exercise 3.6\n",
        "Calculate accuracy, precision, recall, specificity, and F1 score for 2 chosen groups. What does this tell you?"
      ],
      "metadata": {
        "id": "ZdoYiSDz3rsl"
      }
    },
    {
      "cell_type": "code",
      "source": [
        "# Filter the dataset for Black defendants\n",
        "\n",
        "# Filter the dataset for White defendants\n",
        "\n",
        "# Define the actual and predicted labels for Black defendants\n",
        "\n",
        "# Define the actual and predicted labels for White defendants\n",
        "\n",
        "# Create a confusion matrix for Black defendants\n",
        "\n",
        "# Calculate metrics for Black defendants\n",
        "\n",
        "# Create a confusion matrix for White defendants\n",
        "\n",
        "# Calculate metrics for White defendants\n"
      ],
      "metadata": {
        "id": "qY1IXUNi3reP"
      },
      "execution_count": null,
      "outputs": []
    },
    {
      "cell_type": "markdown",
      "source": [
        "####Exercise 3.7\n",
        "What if we defined score_binary wrong? Define a new column as 1 if `'score_text'` == 'High' and 0 as everything else. Then compare false positives and false negatives across races with this new column.\n",
        "\n"
      ],
      "metadata": {
        "id": "B1HcRVrfYzK7"
      }
    },
    {
      "cell_type": "code",
      "source": [],
      "metadata": {
        "id": "8SGiFmfeY1oB"
      },
      "execution_count": null,
      "outputs": []
    },
    {
      "cell_type": "markdown",
      "source": [
        "##Exercise 4: Gender (if you have extra time)"
      ],
      "metadata": {
        "id": "O_LdvQ7ZYeN5"
      }
    },
    {
      "cell_type": "markdown",
      "source": [
        "Run Exercise 2.1 - 3.6, but across a gender difference."
      ],
      "metadata": {
        "id": "9VCrrb7ZYqkX"
      }
    },
    {
      "cell_type": "code",
      "source": [],
      "metadata": {
        "id": "Fc1NIZgXYnGK"
      },
      "execution_count": null,
      "outputs": []
    }
  ]
}
