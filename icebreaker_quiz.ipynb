{
  "nbformat": 4,
  "nbformat_minor": 0,
  "metadata": {
    "colab": {
      "provenance": []
    },
    "kernelspec": {
      "name": "python3",
      "display_name": "Python 3"
    },
    "language_info": {
      "name": "python"
    }
  },
  "cells": [
    {
      "cell_type": "code",
      "execution_count": null,
      "metadata": {
        "id": "UrgV_dSeOQ2D"
      },
      "outputs": [],
      "source": [
        "import pandas as pd\n",
        "import seaborn as sns"
      ]
    },
    {
      "cell_type": "markdown",
      "source": [
        "Load the google forms csv into a pandas dataframe."
      ],
      "metadata": {
        "id": "RCNeWSGHOTzt"
      }
    },
    {
      "cell_type": "code",
      "source": [],
      "metadata": {
        "id": "YrxOp3emOVyv"
      },
      "execution_count": null,
      "outputs": []
    },
    {
      "cell_type": "markdown",
      "source": [
        "Print out the .head() and the datatypes."
      ],
      "metadata": {
        "id": "cIwmiGnWOW8j"
      }
    },
    {
      "cell_type": "code",
      "source": [],
      "metadata": {
        "id": "ybJmVVrQOYeg"
      },
      "execution_count": null,
      "outputs": []
    },
    {
      "cell_type": "markdown",
      "source": [
        "Change the column names of the dataframe to better reflect the content"
      ],
      "metadata": {
        "id": "zpB5urhEOY6M"
      }
    },
    {
      "cell_type": "code",
      "source": [],
      "metadata": {
        "id": "ivt-CCAzO-Ac"
      },
      "execution_count": null,
      "outputs": []
    },
    {
      "cell_type": "markdown",
      "source": [
        "Drop the timestamp column."
      ],
      "metadata": {
        "id": "b_RGzePwPnS8"
      }
    },
    {
      "cell_type": "code",
      "source": [],
      "metadata": {
        "id": "DLLZ282zPoxv"
      },
      "execution_count": null,
      "outputs": []
    },
    {
      "cell_type": "markdown",
      "source": [
        "What are the value counts of each state?"
      ],
      "metadata": {
        "id": "P2uXvgrbPCjg"
      }
    },
    {
      "cell_type": "code",
      "source": [],
      "metadata": {
        "id": "UGzm91xSPD3r"
      },
      "execution_count": null,
      "outputs": []
    },
    {
      "cell_type": "markdown",
      "source": [
        "If people left the country column blank, it's filled with an NaN and that means they're American. Fill these NaN values with 'USA'."
      ],
      "metadata": {
        "id": "9AuI0mAIPEvQ"
      }
    },
    {
      "cell_type": "code",
      "source": [],
      "metadata": {
        "id": "GrirhkIZPNKN"
      },
      "execution_count": null,
      "outputs": []
    },
    {
      "cell_type": "markdown",
      "source": [
        "What is the mean graduation year?"
      ],
      "metadata": {
        "id": "HidC2PQePYeD"
      }
    },
    {
      "cell_type": "code",
      "source": [],
      "metadata": {
        "id": "cAmZw8XyPZtQ"
      },
      "execution_count": null,
      "outputs": []
    },
    {
      "cell_type": "markdown",
      "source": [
        "What is the median number of pets?"
      ],
      "metadata": {
        "id": "wfCvgYZYPaJw"
      }
    },
    {
      "cell_type": "code",
      "source": [],
      "metadata": {
        "id": "vTc3l1MkPmFn"
      },
      "execution_count": null,
      "outputs": []
    },
    {
      "cell_type": "markdown",
      "source": [
        "What is the max and min number of roommates?"
      ],
      "metadata": {
        "id": "pnzR3ZQQPuCZ"
      }
    },
    {
      "cell_type": "code",
      "source": [],
      "metadata": {
        "id": "ifh6ASv4PvdP"
      },
      "execution_count": null,
      "outputs": []
    },
    {
      "cell_type": "markdown",
      "source": [
        "What is the percentage of people who have 1 pet compared to the entire population?"
      ],
      "metadata": {
        "id": "ZkJJJcYMQDl9"
      }
    },
    {
      "cell_type": "code",
      "source": [],
      "metadata": {
        "id": "5EOCsgZ9QHp1"
      },
      "execution_count": null,
      "outputs": []
    },
    {
      "cell_type": "markdown",
      "source": [
        "What is the correlation between number of roommates and graduation year?"
      ],
      "metadata": {
        "id": "qoQ5l-MpPv2I"
      }
    },
    {
      "cell_type": "code",
      "source": [],
      "metadata": {
        "id": "BiXeULaDPyAs"
      },
      "execution_count": null,
      "outputs": []
    },
    {
      "cell_type": "markdown",
      "source": [
        "Graph the number of people we have from each state using seaborn."
      ],
      "metadata": {
        "id": "_tZTh_gGPy6b"
      }
    },
    {
      "cell_type": "code",
      "source": [],
      "metadata": {
        "id": "aj5NRTyrP3Ip"
      },
      "execution_count": null,
      "outputs": []
    },
    {
      "cell_type": "markdown",
      "source": [
        "When you're done, help the other people around you:)"
      ],
      "metadata": {
        "id": "oznBxpDgQkB3"
      }
    }
  ]
}